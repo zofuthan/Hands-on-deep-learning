{
 "cells": [
  {
   "cell_type": "code",
   "execution_count": 1,
   "metadata": {},
   "outputs": [],
   "source": [
    "from __future__ import absolute_import, division, print_function, unicode_literals\n",
    "#!pip install tensorflow==2.0.0-alpha0 \n",
    "import tensorflow as tf\n",
    "\n",
    "from tensorflow.keras.layers import Dense, Flatten, Conv2D\n",
    "from tensorflow.keras import Model"
   ]
  },
  {
   "cell_type": "code",
   "execution_count": 2,
   "metadata": {},
   "outputs": [
    {
     "data": {
      "text/plain": [
       "'2.0.0-dev20190602'"
      ]
     },
     "execution_count": 2,
     "metadata": {},
     "output_type": "execute_result"
    }
   ],
   "source": [
    "tf.__version__"
   ]
  },
  {
   "cell_type": "code",
   "execution_count": 3,
   "metadata": {},
   "outputs": [],
   "source": [
    "mnist = tf.keras.datasets.mnist\n",
    "\n",
    "(x_train, y_train), (x_test, y_test) = mnist.load_data(\"mnist.npz\")\n",
    "x_train, x_test = x_train / 255.0, x_test / 255.0\n",
    "\n",
    "# Add a channels dimension\n",
    "x_train = x_train[..., tf.newaxis]\n",
    "x_test = x_test[..., tf.newaxis]"
   ]
  },
  {
   "cell_type": "code",
   "execution_count": 4,
   "metadata": {},
   "outputs": [],
   "source": [
    "train_ds = tf.data.Dataset.from_tensor_slices(\n",
    "    (x_train, y_train)).shuffle(10000).batch(32)\n",
    "test_ds = tf.data.Dataset.from_tensor_slices((x_test, y_test)).batch(32)"
   ]
  },
  {
   "cell_type": "code",
   "execution_count": 5,
   "metadata": {},
   "outputs": [],
   "source": [
    "class MyModel(Model):\n",
    "  def __init__(self):\n",
    "    super(MyModel, self).__init__()\n",
    "    self.conv1 = Conv2D(32, 3, activation='relu')\n",
    "    self.flatten = Flatten()\n",
    "    self.d1 = Dense(128, activation='relu')\n",
    "    self.d2 = Dense(10, activation='softmax')\n",
    "\n",
    "  def call(self, x):\n",
    "    x = self.conv1(x)\n",
    "    x = self.flatten(x)\n",
    "    x = self.d1(x)\n",
    "    return self.d2(x)\n",
    "\n",
    "model = MyModel()"
   ]
  },
  {
   "cell_type": "code",
   "execution_count": 6,
   "metadata": {},
   "outputs": [],
   "source": [
    "loss_object = tf.keras.losses.SparseCategoricalCrossentropy()\n",
    "\n",
    "optimizer = tf.keras.optimizers.Adam()"
   ]
  },
  {
   "cell_type": "code",
   "execution_count": 7,
   "metadata": {},
   "outputs": [],
   "source": [
    "train_loss = tf.keras.metrics.Mean(name='train_loss')\n",
    "train_accuracy = tf.keras.metrics.SparseCategoricalAccuracy(name='train_accuracy')\n",
    "\n",
    "test_loss = tf.keras.metrics.Mean(name='test_loss')\n",
    "test_accuracy = tf.keras.metrics.SparseCategoricalAccuracy(name='test_accuracy')"
   ]
  },
  {
   "cell_type": "code",
   "execution_count": 8,
   "metadata": {},
   "outputs": [],
   "source": [
    "@tf.function\n",
    "def train_step(images, labels):\n",
    "  with tf.GradientTape() as tape:\n",
    "    predictions = model(images)\n",
    "    loss = loss_object(labels, predictions)\n",
    "  gradients = tape.gradient(loss, model.trainable_variables)\n",
    "  optimizer.apply_gradients(zip(gradients, model.trainable_variables))\n",
    "\n",
    "  train_loss(loss)\n",
    "  train_accuracy(labels, predictions)"
   ]
  },
  {
   "cell_type": "code",
   "execution_count": 9,
   "metadata": {},
   "outputs": [],
   "source": [
    "@tf.function\n",
    "def test_step(images, labels):\n",
    "  predictions = model(images)\n",
    "  t_loss = loss_object(labels, predictions)\n",
    "\n",
    "  test_loss(t_loss)\n",
    "  test_accuracy(labels, predictions)"
   ]
  },
  {
   "cell_type": "code",
   "execution_count": 10,
   "metadata": {},
   "outputs": [
    {
     "name": "stdout",
     "output_type": "stream",
     "text": [
      "Epoch 1, Loss: 0.14078624546527863, Accuracy: 95.77999877929688, Test Loss: 0.06723157316446304, Test Accuracy: 97.89999389648438\n",
      "Epoch 2, Loss: 0.0918632298707962, Accuracy: 97.22000122070312, Test Loss: 0.06178327649831772, Test Accuracy: 98.04000091552734\n",
      "Epoch 3, Loss: 0.06773622334003448, Accuracy: 97.9383316040039, Test Loss: 0.0604030042886734, Test Accuracy: 98.09667205810547\n",
      "Epoch 4, Loss: 0.05395057424902916, Accuracy: 98.35333251953125, Test Loss: 0.06481972336769104, Test Accuracy: 98.0425033569336\n",
      "Epoch 5, Loss: 0.04470845311880112, Accuracy: 98.63099670410156, Test Loss: 0.07327750325202942, Test Accuracy: 97.9780044555664\n",
      "Epoch 6, Loss: 0.038550302386283875, Accuracy: 98.81805419921875, Test Loss: 0.07292838394641876, Test Accuracy: 98.05999755859375\n",
      "Epoch 7, Loss: 0.03391440957784653, Accuracy: 98.9566650390625, Test Loss: 0.07330296188592911, Test Accuracy: 98.08856964111328\n",
      "Epoch 8, Loss: 0.030216414481401443, Accuracy: 99.069580078125, Test Loss: 0.07421676814556122, Test Accuracy: 98.11750030517578\n",
      "Epoch 9, Loss: 0.02729729190468788, Accuracy: 99.15814971923828, Test Loss: 0.07539210468530655, Test Accuracy: 98.15666961669922\n",
      "Epoch 10, Loss: 0.024991940706968307, Accuracy: 99.22766876220703, Test Loss: 0.0770253837108612, Test Accuracy: 98.16500091552734\n",
      "Epoch 11, Loss: 0.02287260629236698, Accuracy: 99.29318237304688, Test Loss: 0.07790561020374298, Test Accuracy: 98.18909454345703\n",
      "Epoch 12, Loss: 0.021235231310129166, Accuracy: 99.3447265625, Test Loss: 0.0802779570221901, Test Accuracy: 98.18917083740234\n",
      "Epoch 13, Loss: 0.01993560791015625, Accuracy: 99.38448333740234, Test Loss: 0.08166991174221039, Test Accuracy: 98.18999481201172\n",
      "Epoch 14, Loss: 0.01866442710161209, Accuracy: 99.4229736328125, Test Loss: 0.08250769227743149, Test Accuracy: 98.21285247802734\n",
      "Epoch 15, Loss: 0.01757400669157505, Accuracy: 99.4568862915039, Test Loss: 0.08305689692497253, Test Accuracy: 98.23200225830078\n",
      "Epoch 16, Loss: 0.016617123037576675, Accuracy: 99.48635864257812, Test Loss: 0.08430909365415573, Test Accuracy: 98.24250030517578\n",
      "Epoch 17, Loss: 0.015749860554933548, Accuracy: 99.51333618164062, Test Loss: 0.08623705804347992, Test Accuracy: 98.24705505371094\n",
      "Epoch 18, Loss: 0.014980587176978588, Accuracy: 99.53657531738281, Test Loss: 0.08760790526866913, Test Accuracy: 98.26611328125\n",
      "Epoch 19, Loss: 0.014300648123025894, Accuracy: 99.55833435058594, Test Loss: 0.08848697692155838, Test Accuracy: 98.28526306152344\n",
      "Epoch 20, Loss: 0.013656212948262691, Accuracy: 99.5782470703125, Test Loss: 0.08938517421483994, Test Accuracy: 98.29750061035156\n"
     ]
    }
   ],
   "source": [
    "EPOCHS = 20\n",
    "\n",
    "for epoch in range(EPOCHS):\n",
    "  for images, labels in train_ds:\n",
    "    train_step(images, labels)\n",
    "\n",
    "  for test_images, test_labels in test_ds:\n",
    "    test_step(test_images, test_labels)\n",
    "\n",
    "  template = 'Epoch {}, Loss: {}, Accuracy: {}, Test Loss: {}, Test Accuracy: {}'\n",
    "  print (template.format(epoch+1,\n",
    "                         train_loss.result(),\n",
    "                         train_accuracy.result()*100,\n",
    "                         test_loss.result(),\n",
    "                         test_accuracy.result()*100))"
   ]
  }
 ],
 "metadata": {
  "kernelspec": {
   "display_name": "Python 3",
   "language": "python",
   "name": "python3"
  },
  "language_info": {
   "codemirror_mode": {
    "name": "ipython",
    "version": 3
   },
   "file_extension": ".py",
   "mimetype": "text/x-python",
   "name": "python",
   "nbconvert_exporter": "python",
   "pygments_lexer": "ipython3",
   "version": "3.6.7"
  }
 },
 "nbformat": 4,
 "nbformat_minor": 2
}
